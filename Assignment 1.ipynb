{
 "cells": [
  {
   "cell_type": "markdown",
   "id": "d01716ca-c755-45d6-bcc7-7bf194ea5d84",
   "metadata": {},
   "source": [
    "# Excersice 1"
   ]
  },
  {
   "cell_type": "code",
   "execution_count": 2,
   "id": "700df737-bb8f-481d-ae6e-9f65f60382db",
   "metadata": {},
   "outputs": [
    {
     "name": "stdout",
     "output_type": "stream",
     "text": [
      "Anagha SHR2727562 anagha123@example.com\n"
     ]
    }
   ],
   "source": [
    "Name = 'Anagha'\n",
    "Student_number = 'SHR2727562'\n",
    "Email = 'anagha123@example.com'\n",
    "print(Name,Student_number,Email)"
   ]
  },
  {
   "cell_type": "markdown",
   "id": "411ff18c-482d-4280-801e-3d801ade868d",
   "metadata": {},
   "source": [
    "# Excersice 2"
   ]
  },
  {
   "cell_type": "code",
   "execution_count": 56,
   "id": "e0d31115-c787-47fd-8d95-ec9824c928e3",
   "metadata": {},
   "outputs": [
    {
     "name": "stdout",
     "output_type": "stream",
     "text": [
      "\tAnagha\tSHR2727562\tanagha123@example.com\n"
     ]
    }
   ],
   "source": [
    "Write Python code that prints your name, student number and email address using escape sequences.   \n",
    "print('\\t{}\\t{}\\t{}'.format(Name,Student_number,Email))"
   ]
  },
  {
   "cell_type": "markdown",
   "id": "470af9c2-ce04-4431-bdbd-a5680a9b6c0c",
   "metadata": {},
   "source": [
    "# Excersice 3"
   ]
  },
  {
   "cell_type": "code",
   "execution_count": 60,
   "id": "7b5e9150-c9ca-46ee-8bbe-830bb0089bf1",
   "metadata": {},
   "outputs": [],
   "source": [
    "# Write Python code that add, subtract, multiply and divide the two numbers. You can use the two numbers 14 and 7\n",
    "num1 = 14\n",
    "num2 = 7"
   ]
  },
  {
   "cell_type": "code",
   "execution_count": 80,
   "id": "84dd8917-7f9b-4d05-8716-2e7e95b307c9",
   "metadata": {},
   "outputs": [
    {
     "name": "stdout",
     "output_type": "stream",
     "text": [
      "14+7=21\n",
      "14-7=7\n",
      "14*7=98\n",
      "14/7=2.0\n"
     ]
    }
   ],
   "source": [
    "print(f'{num1}+{num2}={num1 + num2}')\n",
    "print(f'{num1}-{num2}={num1 - num2}')\n",
    "print(f'{num1}*{num2}={num1 * num2}')\n",
    "print(f'{num1}/{num2}={num1 / num2}')"
   ]
  },
  {
   "cell_type": "markdown",
   "id": "9eab6db4-d7e6-4afa-9d0f-ee40650ad6ba",
   "metadata": {},
   "source": [
    "# Excersice 4"
   ]
  },
  {
   "cell_type": "code",
   "execution_count": 16,
   "id": "25b46830-1083-47bd-91a8-465c1dbd2768",
   "metadata": {},
   "outputs": [
    {
     "name": "stdout",
     "output_type": "stream",
     "text": [
      "1\n",
      "2\n",
      "3\n",
      "4\n",
      "5\n"
     ]
    }
   ],
   "source": [
    "# Write Python code that displays the numbers from 1 to 5 as steps. \n",
    "for i in range(1,6):\n",
    "    print(i)"
   ]
  },
  {
   "cell_type": "markdown",
   "id": "4764e785-92ba-43d6-b79e-b820dec1d36c",
   "metadata": {},
   "source": [
    "# Excersice 5"
   ]
  },
  {
   "cell_type": "code",
   "execution_count": 20,
   "id": "9a42e2c7-53a1-405b-8d24-a187cbb443bd",
   "metadata": {},
   "outputs": [
    {
     "name": "stdout",
     "output_type": "stream",
     "text": [
      "\"SDK\" stands for \"Software Development Kit\", whereas\n",
      "\"IDE\" stands for \"Integrated Development Environment\".\n"
     ]
    }
   ],
   "source": [
    "print(\"\\\"SDK\\\" stands for \\\"Software Development Kit\\\", whereas\\n\\\"IDE\\\" stands for \\\"Integrated Development Environment\\\".\")"
   ]
  },
  {
   "cell_type": "markdown",
   "id": "7b5028d1-5515-4f85-bb0c-b498f93d8651",
   "metadata": {},
   "source": [
    "# Excersice 6"
   ]
  },
  {
   "cell_type": "code",
   "execution_count": 29,
   "id": "f82c1247-49fa-46a1-bab1-928482953e3f",
   "metadata": {},
   "outputs": [
    {
     "name": "stdout",
     "output_type": "stream",
     "text": [
      "python is an \"awesome\" language.\n"
     ]
    }
   ],
   "source": [
    "print(\"python is an \\\"awesome\\\" language.\")"
   ]
  },
  {
   "cell_type": "code",
   "execution_count": 31,
   "id": "11a4814e-a1d8-4450-af38-9f8f1939eff5",
   "metadata": {},
   "outputs": [
    {
     "name": "stdout",
     "output_type": "stream",
     "text": [
      "python\n",
      "\t2023\n"
     ]
    }
   ],
   "source": [
    "print(\"python\\n\\t2023\")"
   ]
  },
  {
   "cell_type": "code",
   "execution_count": 33,
   "id": "5be1e946-b26a-4f96-91b5-b91f0883ea18",
   "metadata": {},
   "outputs": [
    {
     "name": "stdout",
     "output_type": "stream",
     "text": [
      "I'm from Entri\n"
     ]
    }
   ],
   "source": [
    "print('I\\'m from Entri.\\b')"
   ]
  },
  {
   "cell_type": "code",
   "execution_count": 35,
   "id": "27fcf2ac-ef0f-4a9a-99a6-3cec628828f1",
   "metadata": {},
   "outputs": [
    {
     "name": "stdout",
     "output_type": "stream",
     "text": [
      "5\n"
     ]
    }
   ],
   "source": [
    "print(\"\\65\")"
   ]
  },
  {
   "cell_type": "code",
   "execution_count": 37,
   "id": "eb2847e5-e59b-4305-99d7-2efa7c6a3f08",
   "metadata": {},
   "outputs": [
    {
     "name": "stdout",
     "output_type": "stream",
     "text": [
      "e\n"
     ]
    }
   ],
   "source": [
    "print(\"\\x65\")"
   ]
  },
  {
   "cell_type": "code",
   "execution_count": 39,
   "id": "7b04802e-a0d4-46b8-9ad0-fbc65cfca68b",
   "metadata": {},
   "outputs": [
    {
     "name": "stdout",
     "output_type": "stream",
     "text": [
      "Entri\n",
      "2023\n"
     ]
    }
   ],
   "source": [
    "print(\"Entri\", \"2023\", sep=\"\\n\")"
   ]
  },
  {
   "cell_type": "code",
   "execution_count": 41,
   "id": "b0aa4f86-e9f4-491d-9b76-ce9c8a2f8d65",
   "metadata": {},
   "outputs": [
    {
     "name": "stdout",
     "output_type": "stream",
     "text": [
      "Entr2023\n"
     ]
    }
   ],
   "source": [
    "print(\"Entri\", \"2023\", sep=\"\\b\")"
   ]
  },
  {
   "cell_type": "code",
   "execution_count": 43,
   "id": "0c490fb5-6028-4994-a5a7-5bd400db242d",
   "metadata": {},
   "outputs": [
    {
     "name": "stdout",
     "output_type": "stream",
     "text": [
      "Entri*20"
     ]
    }
   ],
   "source": [
    "print(\"Entri\", \"2023\", sep=\"*\", end=\"\\b\\b\\b\\b\")"
   ]
  },
  {
   "cell_type": "markdown",
   "id": "fd7bead1-67d9-4382-b6f2-8bd160f4160b",
   "metadata": {},
   "source": [
    "# Excersice 7"
   ]
  },
  {
   "cell_type": "code",
   "execution_count": 46,
   "id": "058ea5cd-d23d-4173-a1db-36ad0532cfbb",
   "metadata": {},
   "outputs": [],
   "source": [
    "num=23\n",
    "textnum=\"57\"\n",
    "decimal=98.3"
   ]
  },
  {
   "cell_type": "code",
   "execution_count": 48,
   "id": "907f8399-a96d-44ab-ae4e-dee767f526be",
   "metadata": {},
   "outputs": [
    {
     "name": "stdout",
     "output_type": "stream",
     "text": [
      "<class 'int'>\n",
      "<class 'str'>\n",
      "<class 'float'>\n"
     ]
    }
   ],
   "source": [
    "print(type(num))\n",
    "print(type(textnum))\n",
    "print(type(decimal))"
   ]
  },
  {
   "cell_type": "code",
   "execution_count": 52,
   "id": "483dd177-e158-44bc-b98b-14b53a984a93",
   "metadata": {},
   "outputs": [],
   "source": [
    "total_sum = num + int(textnum) + decimal"
   ]
  },
  {
   "cell_type": "code",
   "execution_count": 54,
   "id": "f806c702-9f0e-4edd-aee2-ce20f3a4acab",
   "metadata": {},
   "outputs": [
    {
     "name": "stdout",
     "output_type": "stream",
     "text": [
      "Sum: 178.3\n",
      "Type of sum: <class 'float'>\n"
     ]
    }
   ],
   "source": [
    "print(\"Sum:\", total_sum)\n",
    "print(\"Type of sum:\", type(total_sum))"
   ]
  },
  {
   "cell_type": "markdown",
   "id": "4bab7bb7-a5dc-4207-af1f-9d58c5da7d9e",
   "metadata": {},
   "source": [
    "# Excersice 8"
   ]
  },
  {
   "cell_type": "code",
   "execution_count": 59,
   "id": "3a2d26d0-8f4e-44c9-8fae-b7d4096c4cfc",
   "metadata": {},
   "outputs": [
    {
     "name": "stdout",
     "output_type": "stream",
     "text": [
      "Total number of minutes in a year: 525600\n"
     ]
    }
   ],
   "source": [
    "\n",
    "days_in_year = 365  \n",
    "hours_in_day = 24   \n",
    "minutes_in_hour = 60 \n",
    "total_minutes_in_year = days_in_year * hours_in_day * minutes_in_hour\n",
    "print(\"Total number of minutes in a year:\", total_minutes_in_year)"
   ]
  },
  {
   "cell_type": "markdown",
   "id": "d4d4599e-e2fb-4072-bbec-a86eb0e02d1e",
   "metadata": {},
   "source": [
    "# Excersice 9"
   ]
  },
  {
   "cell_type": "code",
   "execution_count": 66,
   "id": "2d72fcd1-3df2-418c-a136-9ce96d27b0c6",
   "metadata": {},
   "outputs": [
    {
     "name": "stdin",
     "output_type": "stream",
     "text": [
      "Please enter your name:  Anagha\n"
     ]
    },
    {
     "name": "stdout",
     "output_type": "stream",
     "text": [
      "Hi Anagha, welcome to Python programming :)\n"
     ]
    }
   ],
   "source": [
    "# user to enter his/her name and then output/prints his/her name with a greeting.\n",
    "name = input(\"Please enter your name: \")\n",
    "print(f\"Hi {name}, welcome to Python programming :)\")"
   ]
  }
 ],
 "metadata": {
  "kernelspec": {
   "display_name": "Python [conda env:base] *",
   "language": "python",
   "name": "conda-base-py"
  },
  "language_info": {
   "codemirror_mode": {
    "name": "ipython",
    "version": 3
   },
   "file_extension": ".py",
   "mimetype": "text/x-python",
   "name": "python",
   "nbconvert_exporter": "python",
   "pygments_lexer": "ipython3",
   "version": "3.12.7"
  }
 },
 "nbformat": 4,
 "nbformat_minor": 5
}
