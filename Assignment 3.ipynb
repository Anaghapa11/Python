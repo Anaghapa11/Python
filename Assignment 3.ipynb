{
 "cells": [
  {
   "cell_type": "markdown",
   "id": "fdb3d831-29dd-425f-8d6d-29531accfcc7",
   "metadata": {},
   "source": [
    "# Excersice 2"
   ]
  },
  {
   "cell_type": "code",
   "execution_count": 12,
   "id": "dea22c5c-b910-4f6a-954d-1aea48daeae2",
   "metadata": {},
   "outputs": [
    {
     "name": "stdin",
     "output_type": "stream",
     "text": [
      "Enter your age:  15\n"
     ]
    },
    {
     "name": "stdout",
     "output_type": "stream",
     "text": [
      "Your ticket costs £3.00\n"
     ]
    }
   ],
   "source": [
    "full_price = 6.00\n",
    "age = int(input(\"Enter your age: \"))\n",
    "\n",
    "if age < 16:\n",
    "    ticket_price = full_price / 2  # Half price for under 16\n",
    "elif age >= 60:\n",
    "    ticket_price = full_price / 3  # 1/3 price for 60 and above\n",
    "else:\n",
    "    ticket_price = full_price  # Full price for others\n",
    "print(f\"Your ticket costs £{ticket_price:.2f}\")"
   ]
  },
  {
   "cell_type": "markdown",
   "id": "ddfa7b64-a4f7-44ab-ba5b-56158b517be9",
   "metadata": {},
   "source": [
    "# Excersice 4"
   ]
  },
  {
   "cell_type": "code",
   "execution_count": 24,
   "id": "4bd16d26-ca94-4ba2-bf00-341f4f08901d",
   "metadata": {},
   "outputs": [
    {
     "name": "stdin",
     "output_type": "stream",
     "text": [
      "Enter the first number:  5\n",
      "Enter the second number:  9\n",
      "Enter the third number:  10\n"
     ]
    },
    {
     "name": "stdout",
     "output_type": "stream",
     "text": [
      "The greatest number is: 10.0\n"
     ]
    }
   ],
   "source": [
    "num1 = float(input(\"Enter the first number: \"))\n",
    "num2 = float(input(\"Enter the second number: \"))\n",
    "num3 = float(input(\"Enter the third number: \"))\n",
    "\n",
    "greatest = max(num1, num2, num3) # Determine the greatest number\n",
    "\n",
    "print(f\"The greatest number is: {greatest}\")"
   ]
  },
  {
   "cell_type": "markdown",
   "id": "37c561f4-42f8-4cc2-b49a-6099272df129",
   "metadata": {},
   "source": [
    "# Excersice 5"
   ]
  },
  {
   "cell_type": "code",
   "execution_count": 29,
   "id": "127f459c-5ad9-4de7-8c1e-92185972969e",
   "metadata": {},
   "outputs": [
    {
     "name": "stdin",
     "output_type": "stream",
     "text": [
      "Enter a number:  40\n"
     ]
    },
    {
     "name": "stdout",
     "output_type": "stream",
     "text": [
      "The factorial of 40 is: 815915283247897734345611269596115894272000000000\n"
     ]
    }
   ],
   "source": [
    "num = int(input(\"Enter a number: \"))\n",
    "factorial = 1\n",
    "if num < 0:\n",
    "    print(\"Factorial is not defined for negative numbers.\")\n",
    "else:\n",
    "    for i in range(1, num + 1):\n",
    "        factorial *= i\n",
    "    print(f\"The factorial of {num} is: {factorial}\")"
   ]
  },
  {
   "cell_type": "markdown",
   "id": "21fe44fd-cc58-42c4-85e4-8edc79d8d08a",
   "metadata": {},
   "source": [
    "# Excersice 6"
   ]
  },
  {
   "cell_type": "code",
   "execution_count": 32,
   "id": "505b2db6-1519-4955-9903-476e3ff8b527",
   "metadata": {},
   "outputs": [
    {
     "name": "stdin",
     "output_type": "stream",
     "text": [
      "Enter a number:  80\n"
     ]
    },
    {
     "name": "stdout",
     "output_type": "stream",
     "text": [
      "Reversed number: 8\n"
     ]
    }
   ],
   "source": [
    "num = int(input(\"Enter a number: \"))\n",
    "reversed_num = 0\n",
    "while num > 0:\n",
    "    digit = num % 10  \n",
    "    reversed_num = (reversed_num * 10) + digit  \n",
    "    num //= 10  \n",
    "print(f\"Reversed number: {reversed_num}\")"
   ]
  },
  {
   "cell_type": "markdown",
   "id": "9bc9ebd7-bfd3-4a45-a44f-24b771580ef3",
   "metadata": {},
   "source": [
    "# Excersice 7"
   ]
  },
  {
   "cell_type": "code",
   "execution_count": 39,
   "id": "43501325-6c33-4e66-9edf-28a13181aec4",
   "metadata": {},
   "outputs": [
    {
     "name": "stdin",
     "output_type": "stream",
     "text": [
      "Enter a number:  6\n",
      "Enter the limit:  5\n"
     ]
    },
    {
     "name": "stdout",
     "output_type": "stream",
     "text": [
      "Multiples of 6 up to 5:\n",
      "6\n",
      "12\n",
      "18\n",
      "24\n",
      "30\n"
     ]
    }
   ],
   "source": [
    "num = int(input(\"Enter a number: \"))\n",
    "limit = int(input(\"Enter the limit: \"))\n",
    "print(f\"Multiples of {num} up to {limit}:\")\n",
    "for i in range(1, limit + 1):\n",
    "    print(num * i)"
   ]
  },
  {
   "cell_type": "markdown",
   "id": "2141d1e4-c773-4ed3-b127-f7bc19b80110",
   "metadata": {},
   "source": [
    "# Excersice 8"
   ]
  },
  {
   "cell_type": "code",
   "execution_count": 42,
   "id": "f02837f4-9959-4fe1-9e8b-a0b289234846",
   "metadata": {},
   "outputs": [
    {
     "name": "stdin",
     "output_type": "stream",
     "text": [
      ": 4\n"
     ]
    },
    {
     "name": "stdout",
     "output_type": "stream",
     "text": [
      "4\n"
     ]
    },
    {
     "name": "stdin",
     "output_type": "stream",
     "text": [
      ": 5\n"
     ]
    },
    {
     "name": "stdout",
     "output_type": "stream",
     "text": [
      "5\n"
     ]
    },
    {
     "name": "stdin",
     "output_type": "stream",
     "text": [
      ": 6\n"
     ]
    },
    {
     "name": "stdout",
     "output_type": "stream",
     "text": [
      "6\n"
     ]
    },
    {
     "name": "stdin",
     "output_type": "stream",
     "text": [
      ": done\n"
     ]
    },
    {
     "name": "stdout",
     "output_type": "stream",
     "text": [
      "Done\n"
     ]
    }
   ],
   "source": [
    "while True:\n",
    "    user_input = input(\":\")  # Get user input\n",
    "    if user_input.lower() == \"done\":\n",
    "        print(\"Done\")\n",
    "        break\n",
    "    print(user_input)"
   ]
  },
  {
   "cell_type": "markdown",
   "id": "94c098a5-4a87-4f28-81ae-3c225085baf0",
   "metadata": {},
   "source": [
    "# Excersice 9"
   ]
  },
  {
   "cell_type": "code",
   "execution_count": 45,
   "id": "4fbe6dfb-32f0-4972-9e6a-04bcce18f26c",
   "metadata": {},
   "outputs": [
    {
     "name": "stdout",
     "output_type": "stream",
     "text": [
      "1\n",
      "2\n",
      "Fizz\n",
      "4\n",
      "Buzz\n",
      "Fizz\n",
      "7\n",
      "8\n",
      "Fizz\n",
      "Buzz\n"
     ]
    }
   ],
   "source": [
    "for num in range(1, 11):\n",
    "    if num % 3 == 0 and num % 5 == 0:\n",
    "        print(\"FizzBuzz\")\n",
    "    elif num % 3 == 0:\n",
    "        print(\"Fizz\")\n",
    "    elif num % 5 == 0:\n",
    "        print(\"Buzz\")\n",
    "    else:\n",
    "        print(num)"
   ]
  },
  {
   "cell_type": "markdown",
   "id": "88f3ab98-50cf-4264-a18e-02da14344c8c",
   "metadata": {},
   "source": [
    "# Excersice 10"
   ]
  },
  {
   "cell_type": "code",
   "execution_count": 48,
   "id": "7e058b00-53f8-4e4e-b2a2-fa4d1822e460",
   "metadata": {},
   "outputs": [
    {
     "name": "stdout",
     "output_type": "stream",
     "text": [
      "5 4 3 2 1 \n",
      "4 3 2 1 \n",
      "3 2 1 \n",
      "2 1 \n",
      "1 \n"
     ]
    }
   ],
   "source": [
    "for i in range(5, 0, -1):\n",
    "    for j in range(i, 0, -1):\n",
    "        print(j, end=\" \")\n",
    "    print()"
   ]
  }
 ],
 "metadata": {
  "kernelspec": {
   "display_name": "Python [conda env:base] *",
   "language": "python",
   "name": "conda-base-py"
  },
  "language_info": {
   "codemirror_mode": {
    "name": "ipython",
    "version": 3
   },
   "file_extension": ".py",
   "mimetype": "text/x-python",
   "name": "python",
   "nbconvert_exporter": "python",
   "pygments_lexer": "ipython3",
   "version": "3.12.7"
  }
 },
 "nbformat": 4,
 "nbformat_minor": 5
}
