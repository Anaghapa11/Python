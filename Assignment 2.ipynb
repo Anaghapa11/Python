{
 "cells": [
  {
   "cell_type": "markdown",
   "id": "40b4a082-1440-4d8f-8df6-309f931c05bc",
   "metadata": {},
   "source": [
    "# Excersice 1 List"
   ]
  },
  {
   "cell_type": "code",
   "execution_count": 1,
   "id": "8cc3a283-6f00-4811-93a2-81d7ed9a3698",
   "metadata": {},
   "outputs": [
    {
     "name": "stdout",
     "output_type": "stream",
     "text": [
      "Original list: [67, 91, 45, 3, 80]\n"
     ]
    }
   ],
   "source": [
    "# Create a list of 5 random numbers and print the list.\n",
    "import random\n",
    "numbers = [random.randint(1, 100) for _ in range(5)]\n",
    "print(\"Original list:\", numbers)"
   ]
  },
  {
   "cell_type": "code",
   "execution_count": 4,
   "id": "d66f8d8c-e94b-485b-b388-e988c6c61f60",
   "metadata": {},
   "outputs": [
    {
     "name": "stdout",
     "output_type": "stream",
     "text": [
      "Updated list: [67, 91, 45, 3, 80, 52, 17, 63]\n"
     ]
    }
   ],
   "source": [
    "# Insert 3 new values to the list and print the updated list.\n",
    "new_values = [random.randint(1, 100) for _ in range(3)]\n",
    "numbers.extend(new_values)\n",
    "print(\"Updated list:\", numbers)"
   ]
  },
  {
   "cell_type": "code",
   "execution_count": 6,
   "id": "d8a6bb3c-ae83-468f-a239-42778a0405b9",
   "metadata": {},
   "outputs": [
    {
     "name": "stdout",
     "output_type": "stream",
     "text": [
      "Elements in the list:\n",
      "67\n",
      "91\n",
      "45\n",
      "3\n",
      "80\n",
      "52\n",
      "17\n",
      "63\n"
     ]
    }
   ],
   "source": [
    "# Try to use a for loop to print each element in the list.\n",
    "print(\"Elements in the list:\")\n",
    "for num in numbers:\n",
    "    print(num)"
   ]
  },
  {
   "cell_type": "markdown",
   "id": "de4361df-48a8-4b24-8fc1-0bf60afc44f8",
   "metadata": {},
   "source": [
    "# Excersice 2 Dictionary"
   ]
  },
  {
   "cell_type": "code",
   "execution_count": 17,
   "id": "0e2ae9b6-fd84-41d9-b1e6-b867df93847b",
   "metadata": {},
   "outputs": [
    {
     "name": "stdout",
     "output_type": "stream",
     "text": [
      "Original dictionary: {'name': 'Nila', 'age': 20, 'address': 'Gandhinagar'}\n"
     ]
    }
   ],
   "source": [
    "# Create a dictionary with keys 'name', 'age', and 'address' and values 'John', 25, and 'New York' respectively.\n",
    "person = {\n",
    "    'name': 'Nila',\n",
    "    'age': 20,\n",
    "    'address': 'Gandhinagar'\n",
    "}\n",
    "print(\"Original dictionary:\", person)"
   ]
  },
  {
   "cell_type": "code",
   "execution_count": 19,
   "id": "d1831c67-a1f7-4945-adbb-b633ba238660",
   "metadata": {},
   "outputs": [
    {
     "name": "stdout",
     "output_type": "stream",
     "text": [
      "Updated dictionary: {'name': 'Nila', 'age': 20, 'address': 'Gandhinagar', 'phone': '1234567890'}\n"
     ]
    }
   ],
   "source": [
    "# Add a new key-value pair to the dictionary created in Q1 with key 'phone' and value '1234567890'.\n",
    "person['phone'] = '1234567890'\n",
    "print(\"Updated dictionary:\", person)"
   ]
  },
  {
   "cell_type": "markdown",
   "id": "68dfea2e-f6b9-4d33-9e0b-a6d4d08b69f9",
   "metadata": {},
   "source": [
    "# Excersice 3 Set"
   ]
  },
  {
   "cell_type": "code",
   "execution_count": 26,
   "id": "8ead2dd0-6fbe-4b09-902b-887838da5a20",
   "metadata": {},
   "outputs": [
    {
     "name": "stdout",
     "output_type": "stream",
     "text": [
      "Original set: {1, 2, 3, 4, 5}\n"
     ]
    }
   ],
   "source": [
    "# Create a set with values 1, 2, 3, 4, and 5.\n",
    "numbers_set = {1, 2, 3, 4, 5}\n",
    "print(\"Original set:\", numbers_set)"
   ]
  },
  {
   "cell_type": "code",
   "execution_count": 28,
   "id": "db9ab38b-9c50-4af9-ac0c-47e574151e5f",
   "metadata": {},
   "outputs": [
    {
     "name": "stdout",
     "output_type": "stream",
     "text": [
      "Set after adding 6: {1, 2, 3, 4, 5, 6}\n"
     ]
    }
   ],
   "source": [
    "# Add the value 6 to the set created in Q1.\n",
    "numbers_set.add(6)\n",
    "print(\"Set after adding 6:\", numbers_set)"
   ]
  },
  {
   "cell_type": "code",
   "execution_count": 30,
   "id": "7947023f-4f56-4927-9338-2f01438b36d7",
   "metadata": {},
   "outputs": [
    {
     "name": "stdout",
     "output_type": "stream",
     "text": [
      "Set after removing 3: {1, 2, 4, 5, 6}\n"
     ]
    }
   ],
   "source": [
    "# Remove the value 3 from the set created in Q1.\n",
    "\n",
    "numbers_set.discard(3) \n",
    "print(\"Set after removing 3:\", numbers_set)"
   ]
  },
  {
   "cell_type": "markdown",
   "id": "5c5c565b-dc56-463a-bc95-dd3b2e634438",
   "metadata": {},
   "source": [
    "# Excersice 4 Tuple"
   ]
  },
  {
   "cell_type": "code",
   "execution_count": 33,
   "id": "debcd317-ca16-4ca8-aea8-07942a6507c2",
   "metadata": {},
   "outputs": [
    {
     "name": "stdout",
     "output_type": "stream",
     "text": [
      "Tuple: (1, 2, 3, 4)\n"
     ]
    }
   ],
   "source": [
    "# Create a tuple with values 1, 2, 3, and 4\n",
    "numbers_tuple = (1, 2, 3, 4)\n",
    "print(\"Tuple:\", numbers_tuple)"
   ]
  },
  {
   "cell_type": "code",
   "execution_count": 35,
   "id": "4266528e-654c-4cb2-a460-5de0282f4ecd",
   "metadata": {},
   "outputs": [
    {
     "name": "stdout",
     "output_type": "stream",
     "text": [
      "Length of the tuple: 4\n"
     ]
    }
   ],
   "source": [
    "# Create a tuple with values 1, 2, 3, and 4\n",
    "# Print the length of the tuple created in Q1.\n",
    "\n",
    "print(\"Length of the tuple:\", len(numbers_tuple))"
   ]
  }
 ],
 "metadata": {
  "kernelspec": {
   "display_name": "Python [conda env:base] *",
   "language": "python",
   "name": "conda-base-py"
  },
  "language_info": {
   "codemirror_mode": {
    "name": "ipython",
    "version": 3
   },
   "file_extension": ".py",
   "mimetype": "text/x-python",
   "name": "python",
   "nbconvert_exporter": "python",
   "pygments_lexer": "ipython3",
   "version": "3.12.7"
  }
 },
 "nbformat": 4,
 "nbformat_minor": 5
}
