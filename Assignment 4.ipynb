{
 "cells": [
  {
   "cell_type": "markdown",
   "id": "5a723d60-0dc5-4212-90b3-360b7603bf4b",
   "metadata": {},
   "source": [
    "# Excersice 1"
   ]
  },
  {
   "cell_type": "code",
   "execution_count": 4,
   "id": "0351b1a9-8356-4a1b-9328-7f014245386d",
   "metadata": {},
   "outputs": [
    {
     "name": "stdout",
     "output_type": "stream",
     "text": [
      "15\n",
      "25\n",
      "200\n"
     ]
    }
   ],
   "source": [
    "def calculate(value,option1=10,option2=None):\n",
    "    if option2 is None:\n",
    "        print(value + option1)\n",
    "    else:\n",
    "        print(value*option1*option2)\n",
    "calculate(5)\n",
    "calculate(5,20)\n",
    "calculate(5,20,2)"
   ]
  },
  {
   "cell_type": "markdown",
   "id": "0d1ffe88-7122-4007-a172-3148a696cacf",
   "metadata": {},
   "source": [
    "# Ecxersice 2"
   ]
  },
  {
   "cell_type": "code",
   "execution_count": 7,
   "id": "19246e6a-7b7b-4a3f-bdaa-8400899e1e05",
   "metadata": {},
   "outputs": [
    {
     "name": "stdout",
     "output_type": "stream",
     "text": [
      "['apple', 'banana', 'elephant']\n"
     ]
    }
   ],
   "source": [
    "def filter_strings(strings):\n",
    "    return[s for s in strings if len(s) >=5]\n",
    "sample_list = ['apple','cat','banana','dog','elephant']\n",
    "filtered_list = filter_strings(sample_list)\n",
    "print(filtered_list)"
   ]
  },
  {
   "cell_type": "markdown",
   "id": "4e29e1e1-0555-40d8-8da9-4d464be85eb5",
   "metadata": {},
   "source": [
    "# Excersice 3"
   ]
  },
  {
   "cell_type": "code",
   "execution_count": 12,
   "id": "e29b99f0-ea80-4df4-9bdb-2bc3b8d847b1",
   "metadata": {},
   "outputs": [
    {
     "name": "stdout",
     "output_type": "stream",
     "text": [
      "The result of the expression '3*5+2' is: 17\n"
     ]
    }
   ],
   "source": [
    "expression = '3*5+2'\n",
    "result = eval(expression)\n",
    "print(f\"The result of the expression '{expression}' is: {result}\")"
   ]
  },
  {
   "cell_type": "markdown",
   "id": "f7ec9ebc-acee-4bc4-9de7-f8c91d3d8d19",
   "metadata": {},
   "source": [
    "# Excersice 4"
   ]
  },
  {
   "cell_type": "code",
   "execution_count": 15,
   "id": "82a4de05-f2d3-477e-b37a-022361549d17",
   "metadata": {},
   "outputs": [
    {
     "name": "stdout",
     "output_type": "stream",
     "text": [
      "Prime numbers: [3, 5, 11, 17]\n"
     ]
    }
   ],
   "source": [
    "def is_prime(n):\n",
    "    if n < 2:\n",
    "        return False\n",
    "    for i in range(2, int(n ** 0.5) + 1):\n",
    "        if n % i == 0:\n",
    "            return False\n",
    "    return True\n",
    "\n",
    "numbers = [10, 3, 5, 8, 11, 15, 17, 20]\n",
    "prime_numbers = list(filter(is_prime, numbers))\n",
    "print(\"Prime numbers:\", prime_numbers)"
   ]
  },
  {
   "cell_type": "markdown",
   "id": "cf75326c-f951-4a98-9793-d029f95fa8a2",
   "metadata": {},
   "source": [
    "# Excersice 5"
   ]
  },
  {
   "cell_type": "code",
   "execution_count": 20,
   "id": "d8516d5d-070e-48b5-8e96-a6181ce89a1b",
   "metadata": {},
   "outputs": [
    {
     "name": "stdout",
     "output_type": "stream",
     "text": [
      "uppercase words: ['HELLO', 'WORLD', 'PYTHON', 'PROGRAMMING']\n"
     ]
    }
   ],
   "source": [
    "words = ['hello','world','python','programming']\n",
    "uppercase_words = list(map(str.upper,words))\n",
    "print('uppercase words:',uppercase_words)"
   ]
  }
 ],
 "metadata": {
  "kernelspec": {
   "display_name": "Python [conda env:base] *",
   "language": "python",
   "name": "conda-base-py"
  },
  "language_info": {
   "codemirror_mode": {
    "name": "ipython",
    "version": 3
   },
   "file_extension": ".py",
   "mimetype": "text/x-python",
   "name": "python",
   "nbconvert_exporter": "python",
   "pygments_lexer": "ipython3",
   "version": "3.12.7"
  }
 },
 "nbformat": 4,
 "nbformat_minor": 5
}
