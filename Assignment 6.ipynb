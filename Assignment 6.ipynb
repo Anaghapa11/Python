{
 "cells": [
  {
   "cell_type": "markdown",
   "id": "c66bed10-374d-4756-81d2-7b157bd8eef4",
   "metadata": {},
   "source": [
    "# Question 1\n",
    "University"
   ]
  },
  {
   "cell_type": "code",
   "execution_count": 35,
   "id": "eccab0ee-225e-48fc-b830-0e71f4e21689",
   "metadata": {},
   "outputs": [],
   "source": [
    "class Course:\n",
    "    def __init__(self, course_code, course_name, credit_hours):\n",
    "        self.course_code = course_code\n",
    "        self.course_name = course_name\n",
    "        self.credit_hours = credit_hours\n",
    "\n",
    "    def display_info(self):\n",
    "        return f\"{self.course_code}: {self.course_name} ({self.credit_hours} Credit Hours)\""
   ]
  },
  {
   "cell_type": "code",
   "execution_count": 16,
   "id": "6b3d1aff-b3de-4c28-ae68-6d712df1b624",
   "metadata": {},
   "outputs": [],
   "source": [
    "class CoreCourse(Course):\n",
    "    def __init__(self, course_code, course_name, credit_hours, required_for_major):\n",
    "        super().__init__(course_code, course_name, credit_hours)\n",
    "        self.required_for_major = required_for_major\n",
    "\n",
    "    def display_info(self):\n",
    "        return super().display_info() + f\" | Required for Major: {self.required_for_major}\""
   ]
  },
  {
   "cell_type": "code",
   "execution_count": 29,
   "id": "9a24bc3c-a290-4efe-baae-9a5c25b25d4f",
   "metadata": {},
   "outputs": [],
   "source": [
    "class ElectiveCourse(Course):\n",
    "    def __init__(self, course_code, course_name, credit_hours, elective_type):\n",
    "        super().__init__(course_code, course_name, credit_hours)\n",
    "        self.elective_type = elective_type\n",
    "\n",
    "    def display_info(self):\n",
    "        return super().display_info() + f\" | Elective Type: {self.elective_type}\""
   ]
  },
  {
   "cell_type": "code",
   "execution_count": 20,
   "id": "2702b691-9159-4729-b56e-1407dae6223a",
   "metadata": {},
   "outputs": [
    {
     "name": "stdout",
     "output_type": "stream",
     "text": [
      "CS101: Introduction to Computer Science (3 Credit Hours) | Required for Major: True\n",
      "ART201: Modern Art History (2 Credit Hours) | Elective Type: liberal arts\n"
     ]
    }
   ],
   "source": [
    "core = CoreCourse(\"CS101\", \"Introduction to Computer Science\", 3, True)\n",
    "elective = ElectiveCourse(\"ART201\", \"Modern Art History\", 2, \"liberal arts\")\n",
    "\n",
    "print(core.display_info())\n",
    "print(elective.display_info())"
   ]
  },
  {
   "cell_type": "markdown",
   "id": "2056b9ee-0721-4b8e-9b1c-887f5f31f030",
   "metadata": {},
   "source": [
    "# Question 2\n",
    "Module"
   ]
  },
  {
   "cell_type": "code",
   "execution_count": 31,
   "id": "47fc6a7c-120a-433b-8536-bcdded666ec9",
   "metadata": {},
   "outputs": [],
   "source": [
    "class Employee:\n",
    "    def __init__(self, name, salary):\n",
    "        self.name = name\n",
    "        self.salary = salary\n",
    "\n",
    "    def get_name(self):\n",
    "        return self.name\n",
    "\n",
    "    def get_salary(self):\n",
    "        return self.salary"
   ]
  },
  {
   "cell_type": "code",
   "execution_count": null,
   "id": "42425ee0-8ce2-4220-986f-8310ee40df3c",
   "metadata": {},
   "outputs": [],
   "source": [
    "import employee\n",
    "emp = employee.Employee(\"Bella\", 90000)\n",
    "print(f\"Employee Name: {emp.get_name()}\")\n",
    "print(f\"Employee Salary: {emp.get_salary()}\")"
   ]
  },
  {
   "cell_type": "code",
   "execution_count": 41,
   "id": "31a8bf7e-14b9-4e67-8bcd-cdc2edc3e78d",
   "metadata": {},
   "outputs": [],
   "source": [
    "import os\n",
    "import pandas as os"
   ]
  },
  {
   "cell_type": "code",
   "execution_count": 45,
   "id": "8575afe7-6a2e-41f5-8628-457ffbb9b7e8",
   "metadata": {},
   "outputs": [],
   "source": [
    "import os\n",
    "os.chdir(\"C:/Users/91940/OneDrive/Documents/Python\")"
   ]
  },
  {
   "cell_type": "code",
   "execution_count": null,
   "id": "57c63951-5fb6-4720-9300-8555a99c6f27",
   "metadata": {},
   "outputs": [],
   "source": [
    "import os\n",
    "import sys\n",
    "import importlib\n",
    "\n",
    "sys.path.append(os.getcwd())  \n",
    "import employee\n",
    "importlib.reload(employee)  \n",
    "\n",
    "emp = employee.Employee(\"Bella\", 90000)\n",
    "print(f\"Employee Name: {emp.get_name()}\")\n",
    "print(f\"Employee Salary: {emp.get_salary()}\")"
   ]
  }
 ],
 "metadata": {
  "kernelspec": {
   "display_name": "Python [conda env:base] *",
   "language": "python",
   "name": "conda-base-py"
  },
  "language_info": {
   "codemirror_mode": {
    "name": "ipython",
    "version": 3
   },
   "file_extension": ".py",
   "mimetype": "text/x-python",
   "name": "python",
   "nbconvert_exporter": "python",
   "pygments_lexer": "ipython3",
   "version": "3.12.7"
  }
 },
 "nbformat": 4,
 "nbformat_minor": 5
}
