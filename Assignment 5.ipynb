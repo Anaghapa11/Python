{
 "cells": [
  {
   "cell_type": "markdown",
   "id": "d0a90d2e-1b92-4812-9617-b34d52beccb7",
   "metadata": {},
   "source": [
    "# Excercise 1"
   ]
  },
  {
   "cell_type": "code",
   "execution_count": 21,
   "id": "bcf980a7-e429-4fd0-bddf-889425552448",
   "metadata": {},
   "outputs": [],
   "source": [
    "file = open('File handling.txt','w') \n",
    "file.write('This is your sample from writing a file!!!')\n",
    "file.close() "
   ]
  },
  {
   "cell_type": "code",
   "execution_count": 23,
   "id": "aac7e75d-447d-46c8-b85b-cc470f078c42",
   "metadata": {},
   "outputs": [
    {
     "name": "stdout",
     "output_type": "stream",
     "text": [
      "The content of file from CWD is:\n",
      "This is your sample from writing a file!!!\n"
     ]
    }
   ],
   "source": [
    "with open('File handling.txt','r') as abc:\n",
    "    content = abc.read()\n",
    "    print('The content of file from CWD is:')\n",
    "    print(content)"
   ]
  },
  {
   "cell_type": "markdown",
   "id": "4b1245f6-0674-4cb3-8430-5b6a9d8add17",
   "metadata": {},
   "source": [
    "# Excercise 2"
   ]
  },
  {
   "cell_type": "code",
   "execution_count": 39,
   "id": "7d6077d7-8066-4a9a-b7d6-6fca124809f6",
   "metadata": {},
   "outputs": [],
   "source": [
    "with open('File handling.txt','a') as abc:\n",
    "    abc.write('\\nThis is the next line of information, line 7')"
   ]
  },
  {
   "cell_type": "markdown",
   "id": "f0dbd4a1-c01d-4f5a-a4b9-490de4662945",
   "metadata": {},
   "source": [
    "# Excercise 3"
   ]
  },
  {
   "cell_type": "code",
   "execution_count": null,
   "id": "839e4385-c2da-44fe-b2a1-90a3562ac54b",
   "metadata": {},
   "outputs": [],
   "source": [
    "with open('File handling.txt','r') as abc:\n",
    "    content = abc.read()\n",
    "    print('Content of the appended file is:')\n",
    "    print(content)\n",
    "\n",
    "with open('File handling.txt','r') as l:\n",
    "    for i in l:\n",
    "        print(i.strip())\n",
    "\n"
   ]
  },
  {
   "cell_type": "markdown",
   "id": "195bf882-551d-4a55-a711-5a20808b3408",
   "metadata": {},
   "source": [
    "# Excercise 4"
   ]
  },
  {
   "cell_type": "code",
   "execution_count": null,
   "id": "7eb49186-9aa0-48b8-934d-11dcd761d712",
   "metadata": {},
   "outputs": [],
   "source": [
    "def get_integer_input():\n",
    "    while True:\n",
    "        try:\n",
    "            user_input = input(\"Enter a number: \")\n",
    "            number = int(user_input)\n",
    "            print(\"You entered:\", number)\n",
    "            return number\n",
    "        except ValueError:\n",
    "            print(\"Invalid input! Please enter a valid integer.\")\n",
    "get_integer_input()"
   ]
  },
  {
   "cell_type": "markdown",
   "id": "957aff20-ee31-4c47-be96-8fe6ed88c41d",
   "metadata": {},
   "source": [
    "# Excercise 5"
   ]
  },
  {
   "cell_type": "code",
   "execution_count": 9,
   "id": "6978889e-6bec-49de-ab28-a2a15d2e7439",
   "metadata": {},
   "outputs": [
    {
     "name": "stdin",
     "output_type": "stream",
     "text": [
      "Enter a list of integers:  -8 7 6 5\n"
     ]
    },
    {
     "name": "stdout",
     "output_type": "stream",
     "text": [
      "Error: Negative numbers are not allowed!\n"
     ]
    }
   ],
   "source": [
    "def get_positive_integers():\n",
    "    try:\n",
    "        numbers = list(map(int, input(\"Enter a list of integers: \").split()))      \n",
    "        for num in numbers:\n",
    "            if num < 0:\n",
    "                raise ValueError(\"Negative numbers are not allowed!\")        \n",
    "        print(\"You entered a valid list:\", numbers)\n",
    "        return numbers\n",
    "    except ValueError as e:\n",
    "        print(\"Error:\", e)\n",
    "get_positive_integers()"
   ]
  },
  {
   "cell_type": "markdown",
   "id": "77b181e1-93cd-4a78-a02f-07ed5a36989d",
   "metadata": {},
   "source": [
    "# Excercise 6"
   ]
  },
  {
   "cell_type": "code",
   "execution_count": 16,
   "id": "19f8200c-3662-4ebe-8bbf-e237eee61c4a",
   "metadata": {},
   "outputs": [
    {
     "name": "stdin",
     "output_type": "stream",
     "text": [
      "Enter a list of integers:  1 2 3 4 5 6\n"
     ]
    },
    {
     "name": "stdout",
     "output_type": "stream",
     "text": [
      "Average: 3.5\n",
      "Program has finished running.\n"
     ]
    }
   ],
   "source": [
    "def compute_average():\n",
    "    try:\n",
    "        numbers = list(map(int, input(\"Enter a list of integers: \").split()))\n",
    "        if not numbers:\n",
    "            raise ValueError(\"The list cannot be empty.\")\n",
    "        average = sum(numbers) / len(numbers)\n",
    "        print(\"Average:\", average)\n",
    "    except ValueError as e:\n",
    "        print(\"Error:\", e)   \n",
    "    finally:\n",
    "        print(\"Program has finished running.\")\n",
    "compute_average()"
   ]
  },
  {
   "cell_type": "markdown",
   "id": "e4f9b522-3120-4137-a955-78f0a5cd8e4d",
   "metadata": {},
   "source": [
    "# Excercise 7"
   ]
  },
  {
   "cell_type": "code",
   "execution_count": 19,
   "id": "77313d22-387c-4661-9d76-5253fc80b73c",
   "metadata": {},
   "outputs": [
    {
     "name": "stdin",
     "output_type": "stream",
     "text": [
      "Enter the filename:  hello\n"
     ]
    },
    {
     "name": "stdout",
     "output_type": "stream",
     "text": [
      "An error occurred: name 'Filehandling' is not defined\n"
     ]
    }
   ],
   "source": [
    "def write_to_file():\n",
    "    try:\n",
    "        filename = input(\"Enter the filename: \")\n",
    "        with open(Filehandling.txt, \"w\") as file:\n",
    "            file.write(\"Hello! This is a test file written using Python.\\n\")\n",
    "        print(\"File has been created and written successfully! Welcome! 😊\")\n",
    "    except Exception as e:\n",
    "        print(\"An error occurred:\", e)\n",
    "write_to_file()"
   ]
  }
 ],
 "metadata": {
  "kernelspec": {
   "display_name": "Python [conda env:base] *",
   "language": "python",
   "name": "conda-base-py"
  },
  "language_info": {
   "codemirror_mode": {
    "name": "ipython",
    "version": 3
   },
   "file_extension": ".py",
   "mimetype": "text/x-python",
   "name": "python",
   "nbconvert_exporter": "python",
   "pygments_lexer": "ipython3",
   "version": "3.12.7"
  }
 },
 "nbformat": 4,
 "nbformat_minor": 5
}
